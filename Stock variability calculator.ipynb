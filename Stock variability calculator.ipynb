{
 "cells": [
  {
   "cell_type": "code",
   "execution_count": 25,
   "metadata": {},
   "outputs": [
    {
     "name": "stdout",
     "output_type": "stream",
     "text": [
      "                Open      High       Low     Close       Volume      Turnover\n",
      "Date                                                                         \n",
      "2020-11-18  12860.10  12948.85  12819.35  12938.25  731321438.0  3.985645e+11\n",
      "2020-11-19  12839.50  12963.00  12745.75  12771.70  768751782.0  4.474708e+11\n",
      "2020-11-20  12813.40  12892.45  12730.25  12859.05  663997267.0  4.299215e+11\n",
      "2020-11-23  12960.30  12968.85  12825.70  12926.45  633117401.0  4.203138e+11\n",
      "2020-11-24  13002.60  13079.10  12978.00  13055.15  571864976.0  3.709423e+11\n",
      "...              ...       ...       ...       ...          ...           ...\n",
      "2021-11-11  17967.45  17971.35  17798.20  17873.60  232121151.0  2.007478e+11\n",
      "2021-11-12  17977.60  18123.00  17905.90  18102.75  249111898.0  2.216433e+11\n",
      "2021-11-15  18140.95  18210.15  18071.30  18109.45  280428633.0  1.909960e+11\n",
      "2021-11-16  18127.05  18132.65  17958.80  17999.20  267431829.0  2.410167e+11\n",
      "2021-11-17  17939.35  18022.65  17879.25  17898.65  295715938.0  2.295084e+11\n",
      "\n",
      "[247 rows x 6 columns]\n"
     ]
    }
   ],
   "source": [
    "from datetime import date\n",
    "from datetime import timedelta\n",
    "from nsepy import get_history\n",
    "from nsepy.derivatives import get_expiry_date\n",
    "import numpy as np\n",
    "import pprint\n",
    "import math\n",
    "from nsetools import Nse\n",
    "nseObj = Nse()\n",
    "nifty = get_history(symbol='NIFTY 50',start=date(2020,11,18),end=date(2021,11,18),index=True)\n",
    "pprint.pprint(nifty)"
   ]
  },
  {
   "cell_type": "code",
   "execution_count": 26,
   "metadata": {},
   "outputs": [
    {
     "name": "stdout",
     "output_type": "stream",
     "text": [
      "               Close  Percentage Change\n",
      "Date                                   \n",
      "2020-11-18  12938.25                NaN\n",
      "2020-11-19  12771.70           1.287268\n",
      "2020-11-20  12859.05           0.683934\n",
      "2020-11-23  12926.45           0.524144\n",
      "2020-11-24  13055.15           0.995633\n",
      "...              ...                ...\n",
      "2021-11-11  17873.60           0.797016\n",
      "2021-11-12  18102.75           1.282058\n",
      "2021-11-15  18109.45           0.037011\n",
      "2021-11-16  17999.20           0.608798\n",
      "2021-11-17  17898.65           0.558636\n",
      "\n",
      "[247 rows x 2 columns]\n"
     ]
    }
   ],
   "source": [
    "niftynew = nifty.filter(['Date','Close'], axis=1)\n",
    "count = 0\n",
    "delta = timedelta(days=1)\n",
    "\n",
    "for ind in niftynew.index:\n",
    "    # print(ind)\n",
    "    if count == 0 :\n",
    "        niftynew.loc[ind].at['Percentage Change'] = 0\n",
    "        oldind = ind\n",
    "        count = count + 1\n",
    "    else :\n",
    "        difference = abs(niftynew.loc[ind].at['Close'] - niftynew.loc[oldind].at['Close'])\n",
    "        percentage = (difference/niftynew.at[oldind, 'Close'])*100\n",
    "        # print(percentage)\n",
    "        niftynew.at[ind, 'Percentage Change'] = percentage\n",
    "        count = count + 1\n",
    "        oldind = ind\n",
    "\n",
    "pprint.pprint(niftynew)"
   ]
  },
  {
   "cell_type": "code",
   "execution_count": 27,
   "metadata": {},
   "outputs": [
    {
     "name": "stdout",
     "output_type": "stream",
     "text": [
      "Standard Deviation\n",
      "Close                15556.289474\n",
      "Percentage Change        0.712286\n",
      "dtype: float64\n",
      "Mean\n",
      "Close                1455.598494\n",
      "Percentage Change       0.651626\n",
      "dtype: float64\n"
     ]
    }
   ],
   "source": [
    "stddf = niftynew.std(axis = 0, skipna = True)\n",
    "\n",
    "meandf = niftynew.mean(axis = 0, skipna= True)\n",
    "\n",
    "print(\"Standard Deviation\")\n",
    "print(meandf)\n",
    "print(\"Mean\")\n",
    "print(stddf)\n"
   ]
  },
  {
   "cell_type": "code",
   "execution_count": 28,
   "metadata": {},
   "outputs": [
    {
     "name": "stdout",
     "output_type": "stream",
     "text": [
      "3.561431030541573\n",
      "1.4570790790263501\n"
     ]
    }
   ],
   "source": [
    "today = date.today()\n",
    "expiryDate = date(2021,11,25)\n",
    "dateDifference = np.busday_count(today, expiryDate)\n",
    "mean = dateDifference * meandf.loc[\"Percentage Change\"]\n",
    "print(mean)\n",
    "std = math.sqrt(dateDifference) * stddf.loc[\"Percentage Change\"]\n",
    "print(std)"
   ]
  },
  {
   "cell_type": "code",
   "execution_count": 29,
   "metadata": {},
   "outputs": [
    {
     "name": "stdout",
     "output_type": "stream",
     "text": [
      "17775.9\n",
      "ExpectedLowerValue 17142.82358144196\n",
      "ExpectedUpperValue 18408.976418558042\n",
      "FirstSDLowerValue 16883.814661433316\n",
      "FirstSDUpperValue 18667.985338566687\n",
      "SecondSDLowerValue 16624.805741424672\n",
      "SecondSDUpperValue 18926.99425857533\n"
     ]
    }
   ],
   "source": [
    "dicTodaysvalue = nseObj.get_index_quote(\"nifty 50\")\n",
    "print(dicTodaysvalue.get(\"lastPrice\"))\n",
    "todaysValue = dicTodaysvalue.get(\"lastPrice\")\n",
    "ExpectedUpperValue = todaysValue*(1+(mean/100))\n",
    "ExpectedLowerValue = todaysValue*(1-(mean/100))\n",
    "print(\"ExpectedLowerValue \" + str(ExpectedLowerValue))\n",
    "print(\"ExpectedUpperValue \" + str(ExpectedUpperValue))\n",
    "FirstSDUpperValue = todaysValue*(1+((mean+std)/100))\n",
    "FirstSDLowerValue = todaysValue*(1-((mean+std)/100))\n",
    "print(\"FirstSDLowerValue \" + str(FirstSDLowerValue))\n",
    "print(\"FirstSDUpperValue \" + str(FirstSDUpperValue))\n",
    "SecondSDUpperValue = todaysValue*(1+((mean+(2*std))/100))\n",
    "SecondSDLowerValue = todaysValue*(1-((mean+(2*std))/100))\n",
    "print(\"SecondSDLowerValue \" + str(SecondSDLowerValue))\n",
    "print(\"SecondSDUpperValue \" + str(SecondSDUpperValue))"
   ]
  },
  {
   "cell_type": "code",
   "execution_count": null,
   "metadata": {},
   "outputs": [],
   "source": []
  }
 ],
 "metadata": {
  "interpreter": {
   "hash": "bf89359f8e48e98468c3fdc22c51ed5b5152d5c0e5e990ab5f53054e2c16e15a"
  },
  "kernelspec": {
   "display_name": "Python 3.9.9 64-bit (windows store)",
   "language": "python",
   "name": "python3"
  },
  "language_info": {
   "codemirror_mode": {
    "name": "ipython",
    "version": 3
   },
   "file_extension": ".py",
   "mimetype": "text/x-python",
   "name": "python",
   "nbconvert_exporter": "python",
   "pygments_lexer": "ipython3",
   "version": "3.9.9"
  },
  "orig_nbformat": 4
 },
 "nbformat": 4,
 "nbformat_minor": 2
}
